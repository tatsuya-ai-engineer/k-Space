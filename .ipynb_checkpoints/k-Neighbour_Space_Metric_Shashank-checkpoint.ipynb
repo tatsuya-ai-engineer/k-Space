{
 "cells": [
  {
   "cell_type": "code",
   "execution_count": 2,
   "id": "4e9901f6-75fb-4292-a889-d74b719256bd",
   "metadata": {},
   "outputs": [],
   "source": [
    "import numpy as np\n",
    "from matplotlib import pyplot as plt"
   ]
  },
  {
   "cell_type": "code",
   "execution_count": 29,
   "id": "15518413-4c77-479a-991f-7b08153bd144",
   "metadata": {},
   "outputs": [
    {
     "data": {
      "text/plain": [
       "array([0, 0, 0, 0, 0, 0, 0, 0, 0, 0, 0, 0, 0, 0, 0, 0, 0, 0, 0, 0, 0, 0,\n",
       "       0, 0, 0, 0, 0, 0, 0, 0, 0, 0, 0, 0, 0, 0, 0, 0, 0, 0, 0, 0, 0, 0,\n",
       "       0, 0, 0, 0, 0, 0, 0, 0, 0, 0, 0, 0, 0, 0, 0, 0, 0, 0, 0, 0, 0, 0,\n",
       "       0, 0, 0, 0, 0, 0, 0, 0, 0, 0, 0, 0, 0, 0, 0, 0, 0, 0, 0, 0, 0, 0,\n",
       "       0, 0, 0, 0, 0, 0, 0, 0, 0, 0, 0, 0, 6, 8, 9, 0, 8, 3, 7, 1, 1, 1,\n",
       "       4, 4, 8, 7, 4, 9, 2, 2, 1, 0, 0, 4, 3, 9, 9, 4, 7, 6, 8, 5, 6, 1,\n",
       "       6, 5, 7, 6, 8, 6, 2, 9, 8, 9, 2, 0, 5, 5, 4, 4, 6, 3, 0, 9, 6, 4,\n",
       "       0, 8, 9, 3, 5, 9, 1, 9, 5, 3, 7, 9, 1, 7, 4, 9, 2, 8, 5, 0, 2, 0,\n",
       "       1, 5, 0, 9, 1, 2, 8, 4, 1, 8, 0, 1, 0, 6, 6, 5, 9, 5, 7, 3, 6, 1,\n",
       "       5, 2])"
      ]
     },
     "execution_count": 29,
     "metadata": {},
     "output_type": "execute_result"
    }
   ],
   "source": [
    "neighbours = np.random.randint(0, 10, 200)\n",
    "neighbours[:100] = 0\n",
    "neighbours"
   ]
  },
  {
   "cell_type": "code",
   "execution_count": 30,
   "id": "edd7c6ea-d88f-422c-a0a0-03486cea8994",
   "metadata": {},
   "outputs": [
    {
     "data": {
      "text/plain": [
       "array([1, 1, 1, 1, 1, 1, 1, 1, 1, 1, 1, 1, 1, 1, 1, 1, 1, 1, 1, 1, 1, 1,\n",
       "       1, 1, 1, 1, 1, 1, 1, 1, 1, 1, 1, 1, 1, 1, 1, 1, 1, 1, 1, 1, 1, 1,\n",
       "       1, 1, 1, 1, 1, 1, 1, 1, 1, 1, 1, 1, 1, 1, 1, 1, 1, 1, 1, 1, 1, 1,\n",
       "       1, 1, 1, 1, 1, 1, 1, 1, 1, 1, 1, 1, 1, 1, 1, 1, 1, 1, 1, 1, 1, 1,\n",
       "       1, 1, 1, 1, 1, 1, 1, 1, 1, 1, 1, 1, 0, 0, 0, 1, 0, 0, 0, 0, 0, 0,\n",
       "       0, 0, 0, 0, 0, 0, 0, 0, 0, 1, 1, 0, 0, 0, 0, 0, 0, 0, 0, 0, 0, 0,\n",
       "       0, 0, 0, 0, 0, 0, 0, 0, 0, 0, 0, 1, 0, 0, 0, 0, 0, 0, 1, 0, 0, 0,\n",
       "       1, 0, 0, 0, 0, 0, 0, 0, 0, 0, 0, 0, 0, 0, 0, 0, 0, 0, 0, 1, 0, 1,\n",
       "       0, 0, 1, 0, 0, 0, 0, 0, 0, 0, 1, 0, 1, 0, 0, 0, 0, 0, 0, 0, 0, 0,\n",
       "       0, 0])"
      ]
     },
     "execution_count": 30,
     "metadata": {},
     "output_type": "execute_result"
    }
   ],
   "source": [
    "cls = 0\n",
    "neighbour_space = np.where(neighbours == cls, 1, 0)\n",
    "neighbour_space"
   ]
  },
  {
   "cell_type": "code",
   "execution_count": 31,
   "id": "744ed3a1-30e7-411d-b260-a765c87bec56",
   "metadata": {},
   "outputs": [
    {
     "data": {
      "image/png": "[encoded data removed]",
      "text/plain": [
       "<Figure size 432x288 with 3 Axes>"
      ]
     },
     "metadata": {
      "needs_background": "light"
     },
     "output_type": "display_data"
    }
   ],
   "source": [
    "fig, (ax1,ax2, ax3) = plt.subplots(nrows=3, sharex=True)\n",
    "\n",
    "ax1.imshow(neighbours[np.newaxis,:], cmap=\"tab10\", aspect=\"auto\")\n",
    "ax1.set_yticks([])\n",
    "\n",
    "ax2.plot(np.cumsum(neighbour_space)/ (np.arange(neighbour_space.shape[0])+1) )\n",
    "\n",
    "ax3.plot(neighbour_space)\n",
    "\n",
    "plt.tight_layout()\n",
    "plt.show()"
   ]
  },
  {
   "cell_type": "code",
   "execution_count": 32,
   "id": "4a2b7220-04b6-4fda-8a9c-c74f0e89e77c",
   "metadata": {},
   "outputs": [],
   "source": [
    "dist = np.where(neighbour_space==1)[0]"
   ]
  },
  {
   "cell_type": "code",
   "execution_count": 33,
   "id": "4da039f6-8042-4a97-b4a9-432a0a7a5515",
   "metadata": {},
   "outputs": [
    {
     "data": {
      "text/plain": [
       "59.810810810810814"
      ]
     },
     "execution_count": 33,
     "metadata": {},
     "output_type": "execute_result"
    }
   ],
   "source": [
    "mean = np.sum(dist)/ dist.shape[0]\n",
    "mean"
   ]
  },
  {
   "cell_type": "code",
   "execution_count": 34,
   "id": "10beebf7-89dd-4988-9905-1cd336657e5b",
   "metadata": {},
   "outputs": [
    {
     "data": {
      "text/plain": [
       "1811.6275184275185"
      ]
     },
     "execution_count": 34,
     "metadata": {},
     "output_type": "execute_result"
    }
   ],
   "source": [
    "var = np.sum((dist-mean)**2)/ (dist.shape[0]-1)\n",
    "var"
   ]
  }
 ],
 "metadata": {
  "kernelspec": {
   "display_name": "Python 3 (ipykernel)",
   "language": "python",
   "name": "python3"
  },
  "language_info": {
   "codemirror_mode": {
    "name": "ipython",
    "version": 3
   },
   "file_extension": ".py",
   "mimetype": "text/x-python",
   "name": "python",
   "nbconvert_exporter": "python",
   "pygments_lexer": "ipython3",
   "version": "3.8.12"
  },
  "scenes_data": {
   "active_scene": "Default Scene",
   "init_scene": "",
   "scenes": [
    "Default Scene"
   ]
  }
 },
 "nbformat": 4,
 "nbformat_minor": 5
}
