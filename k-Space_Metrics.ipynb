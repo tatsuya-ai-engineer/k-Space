{
 "cells": [
  {
   "cell_type": "code",
   "execution_count": 1,
   "id": "01df3a0c",
   "metadata": {},
   "outputs": [],
   "source": [
    "import pickle\n",
    "\n",
    "import numpy as np\n",
    "np.set_printoptions(threshold=np.inf)\n",
    "\n",
    "import matplotlib\n",
    "from matplotlib import pyplot as plt\n",
    "from matplotlib.ticker import MaxNLocator\n",
    "import pandas as pd\n",
    "from matplotlib.lines import Line2D\n",
    "import seaborn as sns\n",
    "import distinctipy\n",
    "\n",
    "from scipy.integrate import simpson\n",
    "from numpy import trapz\n",
    "import statistics as st"
   ]
  },
  {
   "cell_type": "code",
   "execution_count": 2,
   "id": "c62a4778-ab03-41b0-93a2-b44c4c785956",
   "metadata": {},
   "outputs": [],
   "source": [
    "# classes = ['Airplane', 'Bear', 'Bicycle', 'Bird', 'Boat', 'Bottle', 'Car', 'Cat', 'Chair', 'Clock', 'Dog', 'Elephant', 'Keyboard', 'Knife', 'Oven', 'Truck' ]\n",
    "classes = ['Airplane', 'Bear', 'Bicycle', 'Car', 'Chair', 'Dog', 'Elephant', 'Truck', ]\n",
    "n = len(classes)"
   ]
  },
  {
   "cell_type": "code",
   "execution_count": 3,
   "id": "f437d8af-fb53-43f2-934c-be0c42cff5b6",
   "metadata": {},
   "outputs": [
    {
     "data": {
      "image/png": "[encoded data removed]",
      "text/plain": [
       "<Figure size 800x800 with 1 Axes>"
      ]
     },
     "metadata": {},
     "output_type": "display_data"
    }
   ],
   "source": [
    "colors = distinctipy.get_colors(n+1, pastel_factor=0.0)\n",
    "distinctipy.color_swatch(colors)"
   ]
  },
  {
   "cell_type": "code",
   "execution_count": 4,
   "id": "6fdf2e4b-63ef-4573-8d1d-5ccd2dac2905",
   "metadata": {},
   "outputs": [
    {
     "data": {
      "image/png": "[encoded data removed]",
      "text/plain": [
       "<Figure size 800x800 with 1 Axes>"
      ]
     },
     "metadata": {},
     "output_type": "display_data"
    }
   ],
   "source": [
    "bicolors = distinctipy.get_colors(2, pastel_factor=0.8)\n",
    "distinctipy.color_swatch(bicolors)"
   ]
  },
  {
   "cell_type": "code",
   "execution_count": 5,
   "id": "9584420d-ac8c-4365-8798-aa934ecdab89",
   "metadata": {},
   "outputs": [],
   "source": [
    "cmap = distinctipy.get_colormap(colors) # matplotlib.cm.get_cmap('Set3')\n",
    "bicmap = distinctipy.get_colormap(bicolors[::-1])\n",
    "k = 10\n",
    "classes   += ['All Classes']\n",
    "plot_names = [\"k-Space\", \"MonoChromatic k-Space\", \"k*\", \"Sorted k*\", \"k* Distribution\"]\n",
    "single_plot_names = [\"Single Plot k* Distribution\"]"
   ]
  },
  {
   "cell_type": "code",
   "execution_count": 6,
   "id": "6c25e8d4-aed4-470e-8265-dc6f76e219c5",
   "metadata": {},
   "outputs": [],
   "source": [
    "def analyse_k_space(neighbours):\n",
    "    \n",
    "    index, length1, length2, clss   = [], [], [], []\n",
    "    binary_neighbours = []\n",
    "    \n",
    "    for i, v in enumerate(neighbours):\n",
    "        \n",
    "        index.extend([i])\n",
    "        \n",
    "        cls = v[0]\n",
    "        \n",
    "        xs = []\n",
    "        vs = [v[i:] for i in range(1, k+1)]\n",
    "        \n",
    "        for ix in range(1, k+1):\n",
    "            x = np.where(list(map(lambda *args: cls not in args, *vs[:ix])))[0]\n",
    "            xs.append(0 if len(x) == 0 else x[0])\n",
    "        \n",
    "        length1.append(xs)\n",
    "        clss.extend([v[xs[0]+1]])\n",
    "        \n",
    "        xs = []\n",
    "        vs = [v[i:] for i in range(1, k+1)]\n",
    "        \n",
    "        for ix in range(1, k+1):\n",
    "            x = np.where(list(map(lambda *args: cls not in st.multimode(args), *vs[:ix])))[0]\n",
    "            xs.append(0 if len(x) == 0 else x[0])\n",
    "        \n",
    "        length2.append(xs)\n",
    "        \n",
    "        # if np.bincount(v[:500].astype(int)).argmax() != i:\n",
    "        #     x = -1*(9999 + np.bincount(v[:500].astype(int)).argmax() + x)\n",
    "        \n",
    "        binary_neighbours.append(np.where(v == cls, 1, 0))\n",
    "    \n",
    "    length1 = np.array(length1)\n",
    "    length2 = np.array(length2)\n",
    "    binary_neighbours = np.array(binary_neighbours)\n",
    "    \n",
    "    values = {'index':index,  'class':clss}\n",
    "    \n",
    "    for i in range(len(xs)):\n",
    "        values[f\"k*_{i+1}\"] = list(length1[:, i])\n",
    "        values[f\"k+_{i+1}\"] = list(length2[:, i])\n",
    "    \n",
    "    values[f\"k*_mean\"] = list(length1.mean(axis=1))\n",
    "    values[f\"k+_mean\"] = list(length2.mean(axis=1))\n",
    "    \n",
    "    df = pd.DataFrame(values).sort_values(['k*_1', 'class'], ascending = [True, True])\n",
    "    \n",
    "    return df, binary_neighbours\n",
    "\n",
    "    # sort_list = df['index'].tolist()\n",
    "    \n",
    "    # return neighbours[sort_list], binary_neighbours[sort_list], df"
   ]
  },
  {
   "cell_type": "code",
   "execution_count": 7,
   "id": "99f770c4-a951-4afe-8093-cd4ac08cf41c",
   "metadata": {},
   "outputs": [],
   "source": [
    "def run(test_name, model_name, train_name, tabular):\n",
    "    \n",
    "    \n",
    "    \n",
    "    # def plot_kSpace_2D(space, ax, i, class_name, **kwargs):\n",
    "    #     ax[i].imshow(space[:, :100], cmap=bicmap if len(np.unique(space)) == 2 else cmap, aspect=\"auto\")\n",
    "    #     ax[i].set(title=f\"Class: {class_name}\", xlabel=\"Class of kth-Neighbour\", ylabel=\"Points\", yticks=[],)\n",
    "    \n",
    "    # def plot_klength(length, ax, i, class_name, **kwargs):\n",
    "    #     num_elements = len(length)\n",
    "    #     sns.lineplot(x=length, y=np.arange(1, num_elements + 1), ax=ax[i], color=cmap(i),)\n",
    "    #     ax[i].fill_betweenx(np.arange(1, num_elements + 1), length, np.zeros(num_elements), color=cmap(i), alpha=0.2)\n",
    "    #     ax[i].set(title=f\"{class_name}: {np.mean(length):.2f}±{np.std(length):.2f}\", xlabel=\"Cluster Boundary Distance\", ylabel=\"Points\")\n",
    "    \n",
    "    # def plot_kMetricDistribution(length, ax, i, class_name, **kwargs):\n",
    "    #     sns.histplot(x=length, color=cmap(i), kde=True, kde_kws={'cut':0, 'bw_adjust':.2}, ax=ax[i])\n",
    "    #     # sns.kdeplot(x=length, cut=0, color=cmap(i), bw_adjust=.2, ax=ax[i])\n",
    "    #     ax[i].set(title=f\"{class_name}\", xlabel=\"Cluster Boundary Distance\", ylabel=\"Number of Points\")\n",
    "    \n",
    "    # functions = [plot_kSpace_2D, plot_kSpace_2D, plot_klength, plot_klength, plot_kMetricDistribution]\n",
    "    # figs = [plt.figure(i, figsize=(110, 10)) for i in range(1, len(plot_names)+1)]\n",
    "    # axes = [fig.subplots(nrows=1, ncols=n+1) for fig in figs]\n",
    "    \n",
    "    # def plot(args, **kwargs):  \n",
    "    #     for func, arg, ax in zip(functions, args, axes):\n",
    "    #         func(arg, ax, **kwargs) \n",
    "    #     plot_kSpace_2D(args[0], axes[0], i, class_name)\n",
    "    #     plot_kSpace_2D(args[1], axes[1], i, class_name)\n",
    "    #     plot_klength(args[2], axes[2], i, class_name)\n",
    "    #     plot_klength(args[3], axes[3], i, class_name)\n",
    "    #     plot_kMetricDistribution(args[4], axes[4], i, class_name)\n",
    "    \n",
    "    def plot_kMetricDistribution_Single_Plot(df, ax, **kwargs):\n",
    "        \n",
    "        # quartiles = [0.382924922548026, 0.682689492137086, 0.866385597462284, 0.954499736103642]\n",
    "        quartiles = [0.25, 0.5, 0.75]\n",
    "        for quartile in quartiles:\n",
    "            ax.axvline(x=(quartile*80), ymin=0, ymax=1, color='k', linestyle='--')\n",
    "            \n",
    "        sns.violinplot(data=dfs, x=\"k*_1\", y=\"class_name\", palette=colors, ax=ax, cut=0, inner='stick')\n",
    "        \n",
    "        for violin in ax.collections[::2]:\n",
    "            violin.set_alpha(0.4)\n",
    "        \n",
    "        sns.swarmplot(data=dfs, x=\"k*_1\", y=\"class_name\", size=1.5, palette=colors, edgecolor='k', ax=ax)\n",
    "        # sns.kdeplot(data=df, x='k*_1', hue='class_name', cut=0, cmap=cmap, bw_adjust=.2, ax=ax)\n",
    "        ax.set(title=f\"k* Cluster Boundary Distance\", xlabel=\"Cluster Boundary Distance\", ylabel=\"Number of Points\")\n",
    "    \n",
    "    sfigs = [plt.figure(i+len(plot_names), figsize=(10, 20)) for i in range(1, len(single_plot_names)+1)]\n",
    "    saxes = [fig.subplots(nrows=1, ncols=1) for fig in sfigs]\n",
    "       \n",
    "    load_path = f'./neighbor_dict/{test_name}_to_{model_name}-{train_name}_neighbors_dict.pkl'\n",
    "    with open(load_path, mode='rb') as f:\n",
    "        v_dicts = pickle.load(f)\n",
    "\n",
    "    # load_path = f'./prediction_dict/{test_name}_to_{model_name}-{train_name}_prediction_dict.pkl'\n",
    "    # with open(load_path, mode='rb') as f:\n",
    "    #     p_dicts = pickle.load(f)\n",
    "    # points = np.array([v_dicts[c.lower()] for c in classes[:n+1]])\n",
    "    \n",
    "    # points = []\n",
    "    dfs    = []\n",
    "    \n",
    "    # for i, (class_name, class_points) in enumerate(v_dicts.items()):\n",
    "    for i, class_name in enumerate(classes[:-1]):\n",
    "        class_points = v_dicts[class_name.lower()]\n",
    "         \n",
    "        df, binary_class_points = analyse_k_space(class_points)\n",
    "        df['class_name'] = class_name\n",
    "        dfs.append(df)\n",
    "        \n",
    "        # points.extend(class_points)\n",
    "       \n",
    "        # sort_idx = df['index'].tolist()\n",
    "        # column = f\"k*_1\"\n",
    "        # length = df[column].tolist()[::-1]\n",
    "        # sorted_length = sorted(length, reverse=True)\n",
    "        \n",
    "        # Compute the area using the composite trapezoidal rule.\n",
    "        # area = trapz(sorted_length, dx=1)\n",
    "        # Compute the area using the composite Simpson's rule.\n",
    "        # area = simpson(sorted_length, dx=1)\n",
    "        \n",
    "        # plot([class_points[sort_idx], binary_class_points[sort_idx], length, sorted_length, length], i=i, class_name=class_name)\n",
    "    \n",
    "    dfs = pd.concat(dfs)\n",
    "    # class_points = np.array(points)\n",
    "    \n",
    "    # df, binary_class_points = analyse_k_space(class_points)\n",
    "    # sort_idx = df['index'].tolist()\n",
    "    # column = f\"k*_1\"\n",
    "    # length = df[column].tolist()[::-1]\n",
    "    # sorted_length = sorted(length, reverse=True)\n",
    "\n",
    "    # plot([class_points[sort_idx], binary_class_points[sort_idx], length, sorted_length, length], i=len(classes)-1, class_name=classes[-1])\n",
    "    \n",
    "    plot_kMetricDistribution_Single_Plot(dfs, saxes[0])\n",
    "    \n",
    "    # for plot_name, fig in zip(plot_names, figs):\n",
    "    #    fig.tight_layout()\n",
    "    #    fig.savefig(f\"./plots/{test_name}_to_{model_name}-{train_name} {plot_name}.png\", dpi=300)\n",
    "    #    fig.clear()\n",
    "    \n",
    "    for plot_name, fig in zip(single_plot_names, sfigs):\n",
    "        \n",
    "        fig.tight_layout()\n",
    "        fig.savefig(f\"./plots/{test_name}_to_{model_name}-{train_name} {plot_name}.png\", dpi=300)\n",
    "        fig.clear()\n",
    "    \n",
    "    mean = dfs.groupby(['class_name'])[\"k*_1\"].mean().to_dict()\n",
    "    std  = dfs.groupby(['class_name'])[\"k*_1\"].std().to_dict()\n",
    "\n",
    "    data = {}\n",
    "    data['Name'] = f\"{model_name}-{train_name}-{test_name}\"\n",
    "\n",
    "    for key in mean.keys():\n",
    "        data[key] = f\"{mean[key]:.2f}±{std[key]:.2f}\"\n",
    "\n",
    "    tabular = tabular.append(data, ignore_index=True)\n",
    "\n",
    "    return tabular"
   ]
  },
  {
   "cell_type": "code",
   "execution_count": 8,
   "id": "d30697ad-3cbe-4c61-83ea-4c3d30e2c5b0",
   "metadata": {},
   "outputs": [
    {
     "name": "stderr",
     "output_type": "stream",
     "text": [
      "/tmp/ipykernel_1711/6811466.py:119: FutureWarning: The frame.append method is deprecated and will be removed from pandas in a future version. Use pandas.concat instead.\n",
      "  tabular = tabular.append(data, ignore_index=True)\n"
     ]
    },
    {
     "data": {
      "text/plain": [
       "<Figure size 1000x2000 with 0 Axes>"
      ]
     },
     "metadata": {},
     "output_type": "display_data"
    }
   ],
   "source": [
    "model_names  = [\"ViT\", \"ViT\"]\n",
    "train_names  = [\"IN\", \"SIN\"]\n",
    "test_names   = [\"IN\", \"SIN\", \"cropIN\", \"noiseIN\", \"rotateIN\", \"cropSIN\", \"noiseSIN\", \"rotateSIN\"]\n",
    "\n",
    "tabular = pd.DataFrame()\n",
    "\n",
    "for model_name in model_names[:1]:\n",
    "    for train_name in train_names[:1]:\n",
    "        for test_name in test_names[:1]:\n",
    "            \n",
    "            tabular = run(test_name, model_name, train_name, tabular)\n",
    "            \n",
    "            # try:\n",
    "            #     print(model_name, train_name, test_name)\n",
    "            #     run(test_name, model_name, train_name)\n",
    "            # except Exception as e:\n",
    "            #     print(e)"
   ]
  },
  {
   "cell_type": "code",
   "execution_count": 9,
   "id": "a07e62f8-c998-4b68-aa46-8d8966947f54",
   "metadata": {},
   "outputs": [
    {
     "name": "stdout",
     "output_type": "stream",
     "text": [
      "\\begin{tabular}{lllllllll}\n",
      "\\toprule\n",
      "     Name &    Airplane &      Bear &   Bicycle &       Car &     Chair &       Dog &    Elephant &     Truck \\\\\n",
      "\\midrule\n",
      "ViT-IN-IN & 25.20±21.10 & 1.46±2.34 & 1.21±2.66 & 2.27±3.56 & 0.66±1.50 & 0.72±1.20 & 12.90±15.14 & 1.49±2.29 \\\\\n",
      "\\bottomrule\n",
      "\\end{tabular}\n",
      "\n"
     ]
    },
    {
     "name": "stderr",
     "output_type": "stream",
     "text": [
      "/tmp/ipykernel_1711/157526873.py:1: FutureWarning: In future versions `DataFrame.to_latex` is expected to utilise the base implementation of `Styler.to_latex` for formatting and rendering. The arguments signature may therefore change. It is recommended instead to use `DataFrame.style.to_latex` which also contains additional functionality.\n",
      "  print(tabular.to_latex(index=False))\n"
     ]
    }
   ],
   "source": [
    "print(tabular.to_latex(index=False))"
   ]
  }
 ],
 "metadata": {
  "kernelspec": {
   "display_name": "Python 3 (ipykernel)",
   "language": "python",
   "name": "python3"
  },
  "language_info": {
   "codemirror_mode": {
    "name": "ipython",
    "version": 3
   },
   "file_extension": ".py",
   "mimetype": "text/x-python",
   "name": "python",
   "nbconvert_exporter": "python",
   "pygments_lexer": "ipython3",
   "version": "3.8.5"
  },
  "scenes_data": {
   "active_scene": "Default Scene",
   "init_scene": "",
   "scenes": [
    "Default Scene"
   ]
  }
 },
 "nbformat": 4,
 "nbformat_minor": 5
}
